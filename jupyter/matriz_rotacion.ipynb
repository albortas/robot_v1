{
 "cells": [
  {
   "cell_type": "markdown",
   "metadata": {},
   "source": [
    "Matrices de rotacion"
   ]
  },
  {
   "cell_type": "code",
   "execution_count": 76,
   "metadata": {},
   "outputs": [],
   "source": [
    "from sympy import cos, sin, symbols\n",
    "import numpy as np"
   ]
  },
  {
   "cell_type": "code",
   "execution_count": 77,
   "metadata": {},
   "outputs": [],
   "source": [
    "thetax, thetay, thetaz = symbols('thetax thetay thetaz')\n"
   ]
  },
  {
   "cell_type": "code",
   "execution_count": 78,
   "metadata": {},
   "outputs": [],
   "source": [
    "cx, sx = cos(thetax), sin(thetax)\n",
    "cy, sy = cos(thetay), sin(thetay)\n",
    "cz, sz = cos(thetaz), sin(thetaz)"
   ]
  },
  {
   "cell_type": "markdown",
   "metadata": {},
   "source": [
    "Matriz Rx"
   ]
  },
  {
   "cell_type": "code",
   "execution_count": 79,
   "metadata": {},
   "outputs": [
    {
     "name": "stdout",
     "output_type": "stream",
     "text": [
      "[[1 0 0]\n",
      " [0 cos(thetax) -sin(thetax)]\n",
      " [0 sin(thetax) cos(thetax)]]\n"
     ]
    }
   ],
   "source": [
    "Rx = np.array([[1,0,0],\n",
    "               [0, cx, -sx],\n",
    "               [0, sx, cx]])\n",
    "\n",
    "print(Rx)"
   ]
  },
  {
   "cell_type": "markdown",
   "metadata": {},
   "source": [
    "Matriz Ry"
   ]
  },
  {
   "cell_type": "code",
   "execution_count": 80,
   "metadata": {},
   "outputs": [
    {
     "name": "stdout",
     "output_type": "stream",
     "text": [
      "[[cos(thetay) 0 sin(thetay)]\n",
      " [0 1 0]\n",
      " [-sin(thetay) 0 cos(thetay)]]\n"
     ]
    }
   ],
   "source": [
    "Ry = np.array([[cy, 0, sy],\n",
    "               [0, 1, 0],\n",
    "               [-sy, 0, cy]])\n",
    "print(Ry)"
   ]
  },
  {
   "cell_type": "markdown",
   "metadata": {},
   "source": [
    "Matriz Rz"
   ]
  },
  {
   "cell_type": "code",
   "execution_count": 81,
   "metadata": {},
   "outputs": [
    {
     "name": "stdout",
     "output_type": "stream",
     "text": [
      "[[cos(thetaz) -sin(thetaz) 0]\n",
      " [sin(thetaz) cos(thetaz) 0]\n",
      " [0 0 1]]\n"
     ]
    }
   ],
   "source": [
    "Rz = np.array([[cz, -sz,0],\n",
    "               [sz, cz, 0],\n",
    "               [0, 0, 1]])\n",
    "print(Rz)"
   ]
  },
  {
   "cell_type": "code",
   "execution_count": 74,
   "metadata": {},
   "outputs": [
    {
     "name": "stdout",
     "output_type": "stream",
     "text": [
      "[[cos(thetay)*cos(thetaz) -sin(thetaz)*cos(thetay) sin(thetay)]\n",
      " [sin(thetax)*sin(thetay)*cos(thetaz) + sin(thetaz)*cos(thetax)\n",
      "  -sin(thetax)*sin(thetay)*sin(thetaz) + cos(thetax)*cos(thetaz)\n",
      "  -sin(thetax)*cos(thetay)]\n",
      " [sin(thetax)*sin(thetaz) - sin(thetay)*cos(thetax)*cos(thetaz)\n",
      "  sin(thetax)*cos(thetaz) + sin(thetay)*sin(thetaz)*cos(thetax)\n",
      "  cos(thetax)*cos(thetay)]]\n"
     ]
    }
   ],
   "source": [
    "Rzyx = Rx @ Ry @ Rz\n",
    "print(Rzyx)"
   ]
  },
  {
   "cell_type": "code",
   "execution_count": null,
   "metadata": {},
   "outputs": [
    {
     "name": "stdout",
     "output_type": "stream",
     "text": [
      "[[cos(thetay)*cos(thetaz) -sin(thetaz)*cos(thetay) sin(thetay)]\n",
      " [sin(thetax)*sin(thetay)*cos(thetaz) + sin(thetaz)*cos(thetax)\n",
      "  -sin(thetax)*sin(thetay)*sin(thetaz) + cos(thetax)*cos(thetaz)\n",
      "  -sin(thetax)*cos(thetay)]\n",
      " [sin(thetax)*sin(thetaz) - sin(thetay)*cos(thetax)*cos(thetaz)\n",
      "  sin(thetax)*cos(thetaz) + sin(thetay)*sin(thetaz)*cos(thetax)\n",
      "  cos(thetax)*cos(thetay)]]\n"
     ]
    }
   ],
   "source": [
    "# Rx*Ry*Rz\n",
    "t2 = cos(thetay)\n",
    "t3 = sin(thetaz)\n",
    "t4 = cos(thetaz)\n",
    "t5 = sin(thetay)\n",
    "t6 = cos(thetax)\n",
    "t7 = sin(thetax)\n",
    "M = [t2 * t4, t3 * t6 + t4 * t5 * t7, t3 * t7 - t4 * t5 * t6, -t2 * t3, t4 * t6 - t3 * t5 * t7,\n",
    "        t4 * t7 + t3 * t5 * t6, t5, -t2 * t7, t2 * t6]\n",
    "\n",
    "Mxyz = np.array(M).reshape(3,3).T\n",
    "\n",
    "\n",
    "print(Mxyz)"
   ]
  },
  {
   "cell_type": "code",
   "execution_count": 85,
   "metadata": {},
   "outputs": [
    {
     "name": "stdout",
     "output_type": "stream",
     "text": [
      "[[cos(thetay)*cos(thetaz)\n",
      "  sin(thetax)*sin(thetay)*cos(thetaz) - sin(thetaz)*cos(thetax)\n",
      "  sin(thetax)*sin(thetaz) + sin(thetay)*cos(thetax)*cos(thetaz)]\n",
      " [sin(thetaz)*cos(thetay)\n",
      "  sin(thetax)*sin(thetay)*sin(thetaz) + cos(thetax)*cos(thetaz)\n",
      "  -sin(thetax)*cos(thetaz) + sin(thetay)*sin(thetaz)*cos(thetax)]\n",
      " [-sin(thetay) sin(thetax)*cos(thetay) cos(thetax)*cos(thetay)]]\n"
     ]
    }
   ],
   "source": [
    "#Rxyz = np.dot(Rz, np.dot(Ry, Rx))\n",
    "Rxyz = Rz @ Ry @ Rx\n",
    "print(Rxyz)"
   ]
  },
  {
   "cell_type": "code",
   "execution_count": 86,
   "metadata": {},
   "outputs": [
    {
     "name": "stdout",
     "output_type": "stream",
     "text": [
      "[[cos(thetay)*cos(thetaz)\n",
      "  sin(thetax)*sin(thetay)*cos(thetaz) - sin(thetaz)*cos(thetax)\n",
      "  sin(thetax)*sin(thetaz) + sin(thetay)*cos(thetax)*cos(thetaz)]\n",
      " [sin(thetaz)*cos(thetay)\n",
      "  sin(thetax)*sin(thetay)*sin(thetaz) + cos(thetax)*cos(thetaz)\n",
      "  -sin(thetax)*cos(thetaz) + sin(thetay)*sin(thetaz)*cos(thetax)]\n",
      " [-sin(thetay) sin(thetax)*cos(thetay) cos(thetax)*cos(thetay)]]\n"
     ]
    }
   ],
   "source": [
    "t2 = cos(thetaz)\n",
    "t3 = sin(thetax)\n",
    "t4 = sin(thetaz)\n",
    "t5 = cos(thetax)\n",
    "t6 = sin(thetay)\n",
    "t7 = cos(thetay)\n",
    "Mzx = [t2 * t7, t4 * t7, -t6, -t4 * t5 + t2 * t3 * t6, t2 * t5 + t3 * t4 * t6, t3 * t7, t3 * t4 + t2 * t5 * t6,\n",
    "        -t2 * t3 + t4 * t5 * t6, t5 * t7]\n",
    "\n",
    "Mzyx = np.array(Mzx).reshape(3,3).T\n",
    "print(Mzyx)"
   ]
  }
 ],
 "metadata": {
  "kernelspec": {
   "display_name": "base",
   "language": "python",
   "name": "python3"
  },
  "language_info": {
   "codemirror_mode": {
    "name": "ipython",
    "version": 3
   },
   "file_extension": ".py",
   "mimetype": "text/x-python",
   "name": "python",
   "nbconvert_exporter": "python",
   "pygments_lexer": "ipython3",
   "version": "3.12.7"
  }
 },
 "nbformat": 4,
 "nbformat_minor": 2
}
