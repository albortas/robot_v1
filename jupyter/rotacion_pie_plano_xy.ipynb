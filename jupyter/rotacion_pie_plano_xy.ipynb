{
 "cells": [
  {
   "cell_type": "code",
   "execution_count": 13,
   "metadata": {},
   "outputs": [],
   "source": [
    "import numpy as np\n",
    "from math import atan2, sqrt, cos, sin"
   ]
  },
  {
   "cell_type": "code",
   "execution_count": 14,
   "metadata": {},
   "outputs": [],
   "source": [
    "L0 = 58.09\n",
    "radio = 200\n",
    "angulo = np.pi/2"
   ]
  },
  {
   "cell_type": "code",
   "execution_count": 15,
   "metadata": {},
   "outputs": [],
   "source": [
    "\"\"\" Anchor points \"\"\"        \n",
    "\"\"\" Front left shoulder\"\"\"\n",
    "xlf = 93.55\n",
    "ylf = 39\n",
    "zlf = 0\n",
    "\n",
    "\"\"\"Front right shoulder\"\"\"\n",
    "xrf = 93.55\n",
    "yrf = -39\n",
    "zrf = 0\n",
    "\n",
    "\"\"\"Rear  left hip \"\"\"\n",
    "xlr = -93.55\n",
    "ylr = 39\n",
    "zlr = 0\n",
    "\n",
    "\"\"\"Rear right hip \"\"\"\n",
    "xrr = -93.55\n",
    "yrr = -39\n",
    "zrr = 0"
   ]
  },
  {
   "cell_type": "code",
   "execution_count": 16,
   "metadata": {},
   "outputs": [],
   "source": [
    "class RotacionPiePlanoXY:\n",
    "    def __init__(self, radio, angulo):\n",
    "        self.radio = radio\n",
    "        self.angulo = angulo\n",
    "    \n",
    "    def centro_giro(self):\n",
    "        \"\"\"\n",
    "        Calcula las coordenadas del centro de giro.\n",
    "        \n",
    "        Parámetros:\n",
    "        - r: Radio de giro.\n",
    "        - angulo: Ángulo de dirección.\n",
    "        \n",
    "        Retorna:\n",
    "        - x, y: Coordenadas del centro de giro.\n",
    "        \"\"\"\n",
    "        x = self.radio * cos(self.angulo)\n",
    "        y = self.radio * sin(self.angulo)\n",
    "        return x, y\n",
    "    \n",
    "    def posicion_nominal_pie(self):\n",
    "        \"\"\"\n",
    "        Calcula las posiciones nominales de las patas.\n",
    "        \n",
    "        Parámetros:\n",
    "        - L0: Dimension del ancho del hombro\n",
    "        \n",
    "        Retorna:\n",
    "        - h, k: Posiciones nominales de los pie.\n",
    "        \"\"\"\n",
    "        h = [xlf, xrf, xrr, xlr]\n",
    "        k = [ylf + L0, yrf - L0, yrr - L0, ylr + L0]\n",
    "        return h, k\n",
    "    \n",
    "    def radios_angulos_pies(self):\n",
    "        x, y = self.centro_giro()\n",
    "        h, k = self.posicion_nominal_pie()\n",
    "        radii = [0, 0, 0, 0]\n",
    "        an = [0, 0, 0, 0]\n",
    "        for i in range(4):\n",
    "            radii[i] = sqrt((x - h[i]) ** 2 + (y - k[i]) ** 2)\n",
    "            an[i] = atan2(h[i] - y, k[i] - x)\n",
    "        return radii, an"
   ]
  },
  {
   "cell_type": "code",
   "execution_count": 17,
   "metadata": {},
   "outputs": [
    {
     "name": "stdout",
     "output_type": "stream",
     "text": [
      "[139.07577287220084, 311.470818215768, 311.470818215768, 139.07577287220087]\n",
      "[-0.8313518356165629, -2.3102408179732303, -1.8902149771400647, -1.2513776764497286]\n"
     ]
    }
   ],
   "source": [
    "rotacion_xy = RotacionPiePlanoXY(radio,angulo)\n",
    "rd, an = rotacion_xy.radios_angulos_pies()\n",
    "print(rd)\n",
    "print(an)"
   ]
  },
  {
   "cell_type": "code",
   "execution_count": 19,
   "metadata": {},
   "outputs": [
    {
     "name": "stdout",
     "output_type": "stream",
     "text": [
      "311.470818215768\n"
     ]
    }
   ],
   "source": [
    "maxr = max(rd)\n",
    "print(maxr)"
   ]
  },
  {
   "cell_type": "code",
   "execution_count": 23,
   "metadata": {},
   "outputs": [
    {
     "name": "stdout",
     "output_type": "stream",
     "text": [
      "0.8039650602168735\n",
      "134.82607537119813\n"
     ]
    }
   ],
   "source": [
    "alpha = atan2((39+L0),93.55)\n",
    "print (alpha)\n",
    "r = sqrt((39+ L0)**2 + 93.55**2)\n",
    "print(r)"
   ]
  },
  {
   "cell_type": "code",
   "execution_count": 29,
   "metadata": {},
   "outputs": [
    {
     "name": "stdout",
     "output_type": "stream",
     "text": [
      "[0, 0, 0, 0]\n"
     ]
    }
   ],
   "source": [
    "z = [0]*4\n",
    "print(z)"
   ]
  }
 ],
 "metadata": {
  "kernelspec": {
   "display_name": "base",
   "language": "python",
   "name": "python3"
  },
  "language_info": {
   "codemirror_mode": {
    "name": "ipython",
    "version": 3
   },
   "file_extension": ".py",
   "mimetype": "text/x-python",
   "name": "python",
   "nbconvert_exporter": "python",
   "pygments_lexer": "ipython3",
   "version": "3.12.7"
  }
 },
 "nbformat": 4,
 "nbformat_minor": 2
}
